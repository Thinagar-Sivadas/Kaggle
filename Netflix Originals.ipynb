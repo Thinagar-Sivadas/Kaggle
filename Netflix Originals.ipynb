{
 "cells": [
  {
   "cell_type": "code",
   "execution_count": 1,
   "id": "fbe72636",
   "metadata": {},
   "outputs": [],
   "source": [
    "import os\n",
    "import shutil\n",
    "import opendatasets as od\n",
    "import pandas as pd\n",
    "from IPython.display import display\n",
    "from database.sql_connector import SqlConnector"
   ]
  },
  {
   "cell_type": "code",
   "execution_count": 2,
   "id": "1af1f5f6",
   "metadata": {},
   "outputs": [
    {
     "name": "stdout",
     "output_type": "stream",
     "text": [
      "Databases configured\n",
      "Tables configured\n",
      "Views configured\n",
      "User configured\n"
     ]
    }
   ],
   "source": [
    "sql_con = SqlConnector()"
   ]
  },
  {
   "cell_type": "markdown",
   "id": "80845c85",
   "metadata": {},
   "source": [
    "## Netflix Originals"
   ]
  },
  {
   "cell_type": "code",
   "execution_count": 3,
   "id": "480aaa08",
   "metadata": {},
   "outputs": [],
   "source": [
    "kaggle_user = \"luiscorter\"\n",
    "folder_name = \"netflix-original-films-imdb-scores\""
   ]
  },
  {
   "cell_type": "code",
   "execution_count": 4,
   "id": "904033fc",
   "metadata": {},
   "outputs": [
    {
     "name": "stdout",
     "output_type": "stream",
     "text": [
      "Downloading netflix-original-films-imdb-scores.zip to .\\netflix-original-films-imdb-scores\n"
     ]
    },
    {
     "name": "stderr",
     "output_type": "stream",
     "text": [
      "100%|██████████| 12.4k/12.4k [00:00<00:00, 9.41MB/s]"
     ]
    },
    {
     "name": "stdout",
     "output_type": "stream",
     "text": [
      "\n"
     ]
    },
    {
     "name": "stderr",
     "output_type": "stream",
     "text": [
      "\n"
     ]
    }
   ],
   "source": [
    "od.download(f\"https://www.kaggle.com/{kaggle_user}/{folder_name}\", force=True)"
   ]
  },
  {
   "cell_type": "code",
   "execution_count": 6,
   "id": "e47084ce",
   "metadata": {},
   "outputs": [
    {
     "name": "stdout",
     "output_type": "stream",
     "text": [
      "Query done\n",
      "Data ingested\n"
     ]
    }
   ],
   "source": [
    "for ind, file in enumerate(os.listdir(folder_name)):\n",
    "    df = pd.read_csv(os.path.join(folder_name,file), encoding=\"ISO-8859-1\")\n",
    "    df.Language = df.Language.apply(lambda x: x.split('/'))\n",
    "    df.Genre = df.Genre.apply(lambda x: x.split('/'))\n",
    "    df = df.explode('Language')\n",
    "    df = df.explode('Genre')\n",
    "    df.rename(columns={'IMDB Score':'IMDB_Score'}, inplace=True)\n",
    "    df.Premiere = df.Premiere.str.replace(\".\", \",\", regex=True)\n",
    "    df.Premiere = pd.to_datetime(df.Premiere, format=\"%B %d, %Y\")\n",
    "    sql_con.run_query(\"\"\"DELETE FROM KAGGLE.NETFLIX_ORIGINALS.DATA\"\"\")\n",
    "    sql_con.ingest_dataframe(df, schema='NETFLIX_ORIGINALS', table='DATA')\n",
    "\n",
    "shutil.rmtree(folder_name)"
   ]
  },
  {
   "cell_type": "code",
   "execution_count": null,
   "id": "95bb51a4",
   "metadata": {},
   "outputs": [],
   "source": []
  },
  {
   "cell_type": "code",
   "execution_count": null,
   "id": "1f1df869",
   "metadata": {},
   "outputs": [],
   "source": []
  }
 ],
 "metadata": {
  "kernelspec": {
   "display_name": "Python 3",
   "language": "python",
   "name": "python3"
  },
  "language_info": {
   "codemirror_mode": {
    "name": "ipython",
    "version": 3
   },
   "file_extension": ".py",
   "mimetype": "text/x-python",
   "name": "python",
   "nbconvert_exporter": "python",
   "pygments_lexer": "ipython3",
   "version": "3.9.5"
  }
 },
 "nbformat": 4,
 "nbformat_minor": 5
}
