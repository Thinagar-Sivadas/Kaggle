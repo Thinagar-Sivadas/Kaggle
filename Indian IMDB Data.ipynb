{
 "cells": [
  {
   "cell_type": "code",
   "execution_count": null,
   "id": "fbe72636",
   "metadata": {},
   "outputs": [],
   "source": [
    "import os\n",
    "import shutil\n",
    "import opendatasets as od\n",
    "import pandas as pd\n",
    "from IPython.display import display\n",
    "from database.sql_connector import SqlConnector"
   ]
  },
  {
   "cell_type": "code",
   "execution_count": null,
   "id": "1af1f5f6",
   "metadata": {},
   "outputs": [],
   "source": [
    "sql_con = SqlConnector()"
   ]
  },
  {
   "cell_type": "markdown",
   "id": "80845c85",
   "metadata": {},
   "source": [
    "# Indian IMDB Data"
   ]
  },
  {
   "cell_type": "code",
   "execution_count": null,
   "id": "480aaa08",
   "metadata": {},
   "outputs": [],
   "source": [
    "kaggle_user = \"saikrishnadupp\"\n",
    "folder_name = \"top3000-imdb-indian-movies\""
   ]
  },
  {
   "cell_type": "code",
   "execution_count": null,
   "id": "904033fc",
   "metadata": {},
   "outputs": [],
   "source": [
    "od.download(f\"https://www.kaggle.com/{kaggle_user}/{folder_name}\", force=True)"
   ]
  },
  {
   "cell_type": "code",
   "execution_count": null,
   "id": "e88cbf58",
   "metadata": {},
   "outputs": [],
   "source": [
    "def process_director(val):\n",
    "    val = val.replace('s:','').replace(\"'\",'').replace('\"','').replace('Director:','').lstrip().rstrip().split(',')\n",
    "    val = [ind.lstrip().rstrip() for ind in val if len(ind.lstrip().rstrip())>2]\n",
    "    return ', '.join(val)\n",
    "\n",
    "def process_genre(val):\n",
    "    val = val.lstrip().rstrip().split(',')\n",
    "    val = [ind.lstrip().rstrip() for ind in val if len(ind.lstrip().rstrip())>2]\n",
    "    return ', '.join(val)"
   ]
  },
  {
   "cell_type": "code",
   "execution_count": null,
   "id": "f0ca85e6",
   "metadata": {},
   "outputs": [],
   "source": [
    "file = os.listdir(folder_name)[0]\n",
    "df1 = pd.read_csv(os.path.join(folder_name,file), encoding=\"ISO-8859-1\")\n",
    "df1.drop(columns=['Age_of_content', 'Plot_summary', 'Cast_stars'], inplace=True)\n",
    "df1.rename(columns={'Crew_dir':'Director', 'ImDBRating':'IMDB_Rating', 'Votes':'Number_Of_Votes', 'Date_of_Release':'Year_Of_Release'}, inplace=True)\n",
    "df1 = df1[df1.Director.notna()].reset_index(drop=True)\n",
    "df1 = df1[~(df1.Genre == '****')].reset_index(drop=True)\n",
    "df1.Director =  df1.Director.apply(lambda x: process_director(x))\n",
    "df1.Genre = df1.Genre.apply(lambda x: process_genre(x))\n",
    "# df1 = df1.explode('Director').explode('Genre')\n",
    "df1.head()"
   ]
  },
  {
   "cell_type": "markdown",
   "id": "f3501789",
   "metadata": {},
   "source": [
    "# Remove file "
   ]
  },
  {
   "cell_type": "code",
   "execution_count": null,
   "id": "51afadd3",
   "metadata": {},
   "outputs": [],
   "source": [
    "shutil.rmtree(folder_name)"
   ]
  },
  {
   "cell_type": "markdown",
   "id": "6f7d72e0",
   "metadata": {},
   "source": [
    "# Ingest data "
   ]
  },
  {
   "cell_type": "code",
   "execution_count": null,
   "id": "7578e9fe",
   "metadata": {},
   "outputs": [],
   "source": [
    "sql_con.run_query(\"\"\"DELETE FROM KAGGLE.DATA.INDIAN_IMDB\"\"\")\n",
    "sql_con.ingest_dataframe(df1, schema='DATA', table='INDIAN_IMDB')"
   ]
  }
 ],
 "metadata": {
  "kernelspec": {
   "display_name": "Python 3",
   "language": "python",
   "name": "python3"
  },
  "language_info": {
   "codemirror_mode": {
    "name": "ipython",
    "version": 3
   },
   "file_extension": ".py",
   "mimetype": "text/x-python",
   "name": "python",
   "nbconvert_exporter": "python",
   "pygments_lexer": "ipython3",
   "version": "3.9.5"
  }
 },
 "nbformat": 4,
 "nbformat_minor": 5
}
