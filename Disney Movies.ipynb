{
 "cells": [
  {
   "cell_type": "code",
   "execution_count": null,
   "id": "fbe72636",
   "metadata": {},
   "outputs": [],
   "source": [
    "import os\n",
    "import shutil\n",
    "import opendatasets as od\n",
    "import pandas as pd\n",
    "from IPython.display import display\n",
    "from database.sql_connector import SqlConnector"
   ]
  },
  {
   "cell_type": "code",
   "execution_count": null,
   "id": "1af1f5f6",
   "metadata": {},
   "outputs": [],
   "source": [
    "sql_con = SqlConnector()"
   ]
  },
  {
   "cell_type": "markdown",
   "id": "80845c85",
   "metadata": {},
   "source": [
    "## Netflix Originals"
   ]
  },
  {
   "cell_type": "code",
   "execution_count": null,
   "id": "480aaa08",
   "metadata": {},
   "outputs": [],
   "source": [
    "kaggle_user = \"dikshabhati2002\"\n",
    "folder_name = \"walt-disney-movies\""
   ]
  },
  {
   "cell_type": "code",
   "execution_count": null,
   "id": "904033fc",
   "metadata": {},
   "outputs": [],
   "source": [
    "od.download(f\"https://www.kaggle.com/{kaggle_user}/{folder_name}\", force=True)"
   ]
  },
  {
   "cell_type": "code",
   "execution_count": null,
   "id": "f0ca85e6",
   "metadata": {},
   "outputs": [],
   "source": [
    "file = os.listdir(folder_name)[0]\n",
    "df = pd.read_csv(os.path.join(folder_name,file), encoding=\"ISO-8859-1\")\n",
    "df = df[['title', 'Release date', 'Running time', 'Budget', 'Box office',\n",
    "         'imdb', 'metascore', 'rotten_tomatoes']]"
   ]
  },
  {
   "cell_type": "markdown",
   "id": "39e0e50f",
   "metadata": {},
   "source": [
    "### Pre-process release date column "
   ]
  },
  {
   "cell_type": "code",
   "execution_count": null,
   "id": "e65d0b65",
   "metadata": {},
   "outputs": [],
   "source": [
    "df['Release date'] = pd.to_datetime(df['Release date'], format=\"%Y-%m-%d\")"
   ]
  },
  {
   "cell_type": "markdown",
   "id": "6cc2b875",
   "metadata": {},
   "source": [
    "### Pre-process ratings column "
   ]
  },
  {
   "cell_type": "code",
   "execution_count": null,
   "id": "ee19c296",
   "metadata": {},
   "outputs": [],
   "source": [
    "df.rotten_tomatoes = df.rotten_tomatoes.replace('%','', regex=True).astype('float')\n",
    "df.imdb = (df.imdb / 10) * 100"
   ]
  },
  {
   "cell_type": "markdown",
   "id": "6f7d72e0",
   "metadata": {},
   "source": [
    "### Ingest data "
   ]
  },
  {
   "cell_type": "code",
   "execution_count": null,
   "id": "7578e9fe",
   "metadata": {},
   "outputs": [],
   "source": [
    "df.rename(columns={'title':'Title',\n",
    "                   'Running time':'Running_Time',\n",
    "                   'Box office':'Box_Office',\n",
    "                   'Release date':'Release_Date',\n",
    "                   'imdb':'IMDB',\n",
    "                   'metascore':'Metascore',\n",
    "                   'rotten_tomatoes':'Rotten_Tomatoes'\n",
    "                  }, inplace=True)\n",
    "\n",
    "sql_con.run_query(\"\"\"DELETE FROM KAGGLE.DISNEY.DATA\"\"\")\n",
    "sql_con.ingest_dataframe(df, schema='DISNEY', table='DATA')\n",
    "shutil.rmtree(folder_name)"
   ]
  },
  {
   "cell_type": "code",
   "execution_count": null,
   "id": "cabd78ab",
   "metadata": {},
   "outputs": [],
   "source": []
  }
 ],
 "metadata": {
  "kernelspec": {
   "display_name": "Python 3",
   "language": "python",
   "name": "python3"
  },
  "language_info": {
   "codemirror_mode": {
    "name": "ipython",
    "version": 3
   },
   "file_extension": ".py",
   "mimetype": "text/x-python",
   "name": "python",
   "nbconvert_exporter": "python",
   "pygments_lexer": "ipython3",
   "version": "3.9.5"
  }
 },
 "nbformat": 4,
 "nbformat_minor": 5
}
