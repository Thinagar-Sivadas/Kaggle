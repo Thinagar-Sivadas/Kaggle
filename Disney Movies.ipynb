{
 "cells": [
  {
   "cell_type": "code",
   "execution_count": null,
   "id": "fbe72636",
   "metadata": {},
   "outputs": [],
   "source": [
    "import os\n",
    "import shutil\n",
    "import opendatasets as od\n",
    "import pandas as pd\n",
    "from IPython.display import display\n",
    "from database.sql_connector import SqlConnector"
   ]
  },
  {
   "cell_type": "code",
   "execution_count": null,
   "id": "1af1f5f6",
   "metadata": {},
   "outputs": [],
   "source": [
    "sql_con = SqlConnector()"
   ]
  },
  {
   "cell_type": "markdown",
   "id": "80845c85",
   "metadata": {},
   "source": [
    "## Disney Data 1"
   ]
  },
  {
   "cell_type": "code",
   "execution_count": null,
   "id": "480aaa08",
   "metadata": {},
   "outputs": [],
   "source": [
    "kaggle_user = \"prateekmaj21\"\n",
    "folder_name = \"disney-movies\""
   ]
  },
  {
   "cell_type": "code",
   "execution_count": null,
   "id": "904033fc",
   "metadata": {},
   "outputs": [],
   "source": [
    "od.download(f\"https://www.kaggle.com/{kaggle_user}/{folder_name}\", force=True)"
   ]
  },
  {
   "cell_type": "code",
   "execution_count": null,
   "id": "f0ca85e6",
   "metadata": {},
   "outputs": [],
   "source": [
    "file = os.listdir(folder_name)[0]\n",
    "df1 = pd.read_csv(os.path.join(folder_name,file), encoding=\"ISO-8859-1\")\n",
    "df1.rename(columns={'movie_title':'Title', 'release_date':'Release_Date', 'genre':'Genre',\n",
    "                    'mpaa_rating':'MPAA_Rating', 'total_gross':'Total_Gross', 'inflation_adjusted_gross':'Inflation_Adjusted_Gross'}, inplace=True)"
   ]
  },
  {
   "cell_type": "markdown",
   "id": "e0a17407",
   "metadata": {},
   "source": [
    "### Pre-process release date column "
   ]
  },
  {
   "cell_type": "code",
   "execution_count": null,
   "id": "046985ed",
   "metadata": {},
   "outputs": [],
   "source": [
    "df1['Release_Date'] = pd.to_datetime(df1['Release_Date'], format=\"%Y-%m-%d\")"
   ]
  },
  {
   "cell_type": "markdown",
   "id": "f3501789",
   "metadata": {},
   "source": [
    "### Remove file "
   ]
  },
  {
   "cell_type": "code",
   "execution_count": null,
   "id": "51afadd3",
   "metadata": {},
   "outputs": [],
   "source": [
    "shutil.rmtree(folder_name)"
   ]
  },
  {
   "cell_type": "raw",
   "id": "20a4b3bc",
   "metadata": {},
   "source": []
  },
  {
   "cell_type": "markdown",
   "id": "6f7d72e0",
   "metadata": {},
   "source": [
    "### Ingest data "
   ]
  },
  {
   "cell_type": "code",
   "execution_count": null,
   "id": "7578e9fe",
   "metadata": {},
   "outputs": [],
   "source": [
    "sql_con.run_query(\"\"\"DELETE FROM KAGGLE.DISNEY.DATA\"\"\")\n",
    "sql_con.ingest_dataframe(df1, schema='DISNEY', table='DATA')"
   ]
  }
 ],
 "metadata": {
  "kernelspec": {
   "display_name": "Python 3",
   "language": "python",
   "name": "python3"
  },
  "language_info": {
   "codemirror_mode": {
    "name": "ipython",
    "version": 3
   },
   "file_extension": ".py",
   "mimetype": "text/x-python",
   "name": "python",
   "nbconvert_exporter": "python",
   "pygments_lexer": "ipython3",
   "version": "3.9.5"
  }
 },
 "nbformat": 4,
 "nbformat_minor": 5
}
