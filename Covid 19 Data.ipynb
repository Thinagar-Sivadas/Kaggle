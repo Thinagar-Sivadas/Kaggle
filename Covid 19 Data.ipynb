{
 "cells": [
  {
   "cell_type": "code",
   "execution_count": null,
   "id": "fbe72636",
   "metadata": {},
   "outputs": [],
   "source": [
    "import os\n",
    "import shutil\n",
    "import opendatasets as od\n",
    "import pandas as pd\n",
    "from IPython.display import display\n",
    "from database.sql_connector import SqlConnector"
   ]
  },
  {
   "cell_type": "code",
   "execution_count": null,
   "id": "1af1f5f6",
   "metadata": {},
   "outputs": [],
   "source": [
    "sql_con = SqlConnector()"
   ]
  },
  {
   "cell_type": "markdown",
   "id": "80845c85",
   "metadata": {},
   "source": [
    "# Covid 19 Data"
   ]
  },
  {
   "cell_type": "code",
   "execution_count": null,
   "id": "f0ca85e6",
   "metadata": {
    "scrolled": true
   },
   "outputs": [],
   "source": [
    "df1 = pd.read_csv(\"https://covid.ourworldindata.org/data/owid-covid-data.csv\",\n",
    "                  usecols=['date', 'continent', 'location',\n",
    "                           'total_cases', 'new_cases', 'total_deaths', 'new_deaths', 'icu_patients']).rename(columns={'location':'country'})\n",
    "\n",
    "df1.date = pd.to_datetime(df1.date, format='%Y-%m-%d')\n",
    "\n",
    "df1 = df1[df1.country!='World'].dropna(how='all', subset=['total_cases', 'new_cases', 'total_deaths', 'new_deaths', 'icu_patients']).dropna(how='all', subset=['continent']).reset_index(drop=True)"
   ]
  },
  {
   "cell_type": "markdown",
   "id": "6f7d72e0",
   "metadata": {},
   "source": [
    "# Ingest data "
   ]
  },
  {
   "cell_type": "code",
   "execution_count": null,
   "id": "7578e9fe",
   "metadata": {},
   "outputs": [],
   "source": [
    "sql_con.run_query(\"\"\"DELETE FROM KAGGLE.DATA.COVID_19\"\"\")\n",
    "sql_con.ingest_dataframe(df1, schema='DATA', table='COVID_19')"
   ]
  }
 ],
 "metadata": {
  "kernelspec": {
   "display_name": "Python 3",
   "language": "python",
   "name": "python3"
  },
  "language_info": {
   "codemirror_mode": {
    "name": "ipython",
    "version": 3
   },
   "file_extension": ".py",
   "mimetype": "text/x-python",
   "name": "python",
   "nbconvert_exporter": "python",
   "pygments_lexer": "ipython3",
   "version": "3.9.5"
  }
 },
 "nbformat": 4,
 "nbformat_minor": 5
}
