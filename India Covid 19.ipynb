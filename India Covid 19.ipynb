{
 "cells": [
  {
   "cell_type": "code",
   "execution_count": null,
   "id": "fbe72636",
   "metadata": {},
   "outputs": [],
   "source": [
    "import os\n",
    "import shutil\n",
    "import opendatasets as od\n",
    "import pandas as pd\n",
    "from IPython.display import display\n",
    "from database.sql_connector import SqlConnector"
   ]
  },
  {
   "cell_type": "code",
   "execution_count": null,
   "id": "1af1f5f6",
   "metadata": {},
   "outputs": [],
   "source": [
    "sql_con = SqlConnector()"
   ]
  },
  {
   "cell_type": "code",
   "execution_count": null,
   "id": "480aaa08",
   "metadata": {},
   "outputs": [],
   "source": [
    "kaggle_user = \"anandhuh\"\n",
    "folder_name = \"latest-covid19-india-statewise-data\""
   ]
  },
  {
   "cell_type": "code",
   "execution_count": null,
   "id": "904033fc",
   "metadata": {},
   "outputs": [],
   "source": [
    "od.download(f\"https://www.kaggle.com/{kaggle_user}/{folder_name}\", force=True)"
   ]
  },
  {
   "cell_type": "code",
   "execution_count": null,
   "id": "e47084ce",
   "metadata": {},
   "outputs": [],
   "source": [
    "for file in os.listdir(folder_name):\n",
    "    df = pd.read_csv(os.path.join(folder_name,file))\n",
    "    df.columns = ['State_UTs', 'Total_Cases', 'Active', 'Discharged', 'Deaths', 'Active_Ratio', 'Discharge_Ratio', 'Death_Ratio']\n",
    "    sql_con.run_query(\"\"\"DELETE FROM KAGGLE.COVID_19_INDIA.STATEWISE_DATA\"\"\")\n",
    "    sql_con.ingest_dataframe(df, schema='COVID_19_INDIA', table='STATEWISE_DATA')\n",
    "\n",
    "shutil.rmtree(folder_name)"
   ]
  },
  {
   "cell_type": "code",
   "execution_count": null,
   "id": "054231ad",
   "metadata": {},
   "outputs": [],
   "source": [
    "df = sql_con.run_query(\"\"\"SELECT * FROM KAGGLE.COVID_19_INDIA.STATEWISE_DATA\"\"\")\n",
    "df.shape"
   ]
  },
  {
   "cell_type": "code",
   "execution_count": null,
   "id": "a2bf01ef",
   "metadata": {},
   "outputs": [],
   "source": []
  }
 ],
 "metadata": {
  "kernelspec": {
   "display_name": "Python 3",
   "language": "python",
   "name": "python3"
  },
  "language_info": {
   "codemirror_mode": {
    "name": "ipython",
    "version": 3
   },
   "file_extension": ".py",
   "mimetype": "text/x-python",
   "name": "python",
   "nbconvert_exporter": "python",
   "pygments_lexer": "ipython3",
   "version": "3.9.5"
  }
 },
 "nbformat": 4,
 "nbformat_minor": 5
}
